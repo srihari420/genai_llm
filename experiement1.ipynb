{
 "cells": [
  {
   "cell_type": "code",
   "execution_count": 1,
   "metadata": {},
   "outputs": [
    {
     "name": "stdout",
     "output_type": "stream",
     "text": [
      "hello\n"
     ]
    }
   ],
   "source": [
    "print(\"hello\")"
   ]
  },
  {
   "cell_type": "code",
   "execution_count": 6,
   "metadata": {},
   "outputs": [
    {
     "name": "stdout",
     "output_type": "stream",
     "text": [
      "\u001b[95m  **Info: Loading Ollama Model: llama3:latest \u001b[0m\n"
     ]
    },
    {
     "data": {
      "text/plain": [
       "'In India, \"metro\" or \"metropolitan\" cities are those that have a population of over 10 lakh (1 million) people. These cities are typically the largest urban centers in each state and are often the hubs for economic, cultural, and political activity.\\n\\nHere are some of the metro politon cities in India:\\n\\n1. Ahmedabad: With a population of around 12 lakhs, Ahmedabad is the largest city in Gujarat.\\n2. Bangalore: The silicon valley of India has a population of over 13 lakhs.\\n3. Chennai: The capital of Tamil Nadu has a population of over 10 lakhs.\\n4. Delhi: As the national capital, Delhi\\'s population is over 29 lakhs.\\n5. Hyderabad: The Telangana city has a population of over 12 lakhs.\\n6. Kolkata: The former capital of India and West Bengal has a population of over 14 lakhs.\\n7. Mumbai: The financial hub of India has a population of over 21 lakhs.\\n8. Pune: With a population of over 10 lakhs, Pune is the cultural hub of Maharashtra.\\n\\nThese cities are often considered the economic, educational, and cultural centers of their respective regions, and play a crucial role in India\\'s development and growth.\\n\\nNote: The population figures mentioned above are approximate and based on the latest available data from various sources.'"
      ]
     },
     "execution_count": 6,
     "metadata": {},
     "output_type": "execute_result"
    }
   ],
   "source": [
    "from ss_llm.utils.SS_classes import SS_Models\n",
    "\n",
    "local_models = SS_Models()\n",
    "local_llm = local_models.set_ollama_llm(\"llama3:latest\")\n",
    "\n",
    "local_llm.invoke(\"What are metro politon cities in INDIA\")"
   ]
  },
  {
   "cell_type": "code",
   "execution_count": 7,
   "metadata": {},
   "outputs": [
    {
     "data": {
      "text/plain": [
       "'In India, \"Metropolitan Cities\" refer to the urban agglomerations with a population of over 4 million people. These cities are considered as metropolitan cities based on the population density and economic activity.\\n\\nAs per the Ministry of Urban Development, Government of India, the following cities have been designated as Metropolitan Cities in India:\\n\\n1. Delhi\\n2. Mumbai (formerly Bombay)\\n3. Kolkata (formerly Calcutta)\\n4. Chennai (formerly Madras)\\n\\nThese cities are significant urban centers with a large population and economic activity, serving as hubs for various industries, including finance, commerce, trade, and services.\\n\\nHere\\'s a brief overview of each metropolitan city:\\n\\n1. **Delhi**: The national capital, Delhi is the largest metropolitan city in India, with a population of over 29 million people.\\n2. **Mumbai**: A financial hub and Bollywood film industry center, Mumbai has a population of around 21 million people.\\n3. **Kolkata**: A major commercial and cultural center, Kolkata has a population of about 14 million people.\\n4. **Chennai**: A significant IT and automotive hub, Chennai has a population of around 10 million people.\\n\\nThese metropolitan cities play a crucial role in India\\'s economic growth, innovation, and development, and are often referred to as \"engine-rooms\" or \"growth poles\" for the country\\'s economy.'"
      ]
     },
     "execution_count": 7,
     "metadata": {},
     "output_type": "execute_result"
    }
   ],
   "source": [
    "local_llm.invoke(\"What are metro politon cities in INDIA\")"
   ]
  },
  {
   "cell_type": "code",
   "execution_count": 5,
   "metadata": {},
   "outputs": [
    {
     "data": {
      "text/plain": [
       "<ss_llm.utils.SS_document_helpers.SS_load_documents at 0x78b4c430ae10>"
      ]
     },
     "execution_count": 5,
     "metadata": {},
     "output_type": "execute_result"
    }
   ],
   "source": [
    "from ss_llm.utils.SS_document_helpers import SS_load_documents\n",
    "\n",
    "SS_load_documents()\n"
   ]
  }
 ],
 "metadata": {
  "kernelspec": {
   "display_name": "aienv",
   "language": "python",
   "name": "python3"
  },
  "language_info": {
   "codemirror_mode": {
    "name": "ipython",
    "version": 3
   },
   "file_extension": ".py",
   "mimetype": "text/x-python",
   "name": "python",
   "nbconvert_exporter": "python",
   "pygments_lexer": "ipython3",
   "version": "3.12.3"
  }
 },
 "nbformat": 4,
 "nbformat_minor": 2
}
